{
 "cells": [
  {
   "cell_type": "code",
   "execution_count": 1,
   "id": "9452d460",
   "metadata": {
    "scrolled": true
   },
   "outputs": [],
   "source": [
    "import pandas as pd\n",
    "import sqlite3 as sql\n",
    "import numpy as np\n",
    "import requests\n",
    "import json\n",
    "import matplotlib.pyplot as plt\n",
    "import os\n",
    "from functools import partial, reduce\n",
    "from nba_api.stats.static import players\n",
    "from nba_api.stats.endpoints import draftcombinestats\n",
    "from nba_api.stats.endpoints import drafthistory\n",
    "from nba_api.stats import endpoints\n",
    "draft_df = pd.read_excel('Resources/NBA Drafts.xlsx')\n",
    "mvp = pd.read_excel('new_folder/NBA_Finals_and_MVP.xlsx')"
   ]
  },
  {
   "cell_type": "code",
   "execution_count": 2,
   "id": "0684cdb1",
   "metadata": {},
   "outputs": [],
   "source": [
    "draftstats09 = draftcombinestats.DraftCombineStats(season_all_time=2009).get_dict()['resultSets'][0]['rowSet']\n",
    "draftstats03 = draftcombinestats.DraftCombineStats(season_all_time = 2003).get_dict()['resultSets'][0]['rowSet']\n",
    "draftstats07 = draftcombinestats.DraftCombineStats(season_all_time = 2007).get_dict()['resultSets'][0]['rowSet']\n",
    "draftstats08 = draftcombinestats.DraftCombineStats(season_all_time = 2008).get_dict()['resultSets'][0]['rowSet']"
   ]
  },
  {
   "cell_type": "code",
   "execution_count": 3,
   "id": "8e9fac48",
   "metadata": {},
   "outputs": [],
   "source": [
    "draftstats00 = draftcombinestats.DraftCombineStats(season_all_time = 2000).get_dict()['resultSets'][0]['rowSet']\n",
    "draftstats01 = draftcombinestats.DraftCombineStats(season_all_time = 2001).get_dict()['resultSets'][0]['rowSet']\n",
    "draftstats02 = draftcombinestats.DraftCombineStats(season_all_time = 2002).get_dict()['resultSets'][0]['rowSet']"
   ]
  },
  {
   "cell_type": "code",
   "execution_count": 4,
   "id": "e0b6e236",
   "metadata": {},
   "outputs": [],
   "source": [
    "draftstats04 = draftcombinestats.DraftCombineStats(season_all_time = 2004).get_dict()['resultSets'][0]['rowSet']\n",
    "draftstats05 = draftcombinestats.DraftCombineStats(season_all_time = 2005).get_dict()['resultSets'][0]['rowSet']\n",
    "draftstats06 = draftcombinestats.DraftCombineStats(season_all_time = 2006).get_dict()['resultSets'][0]['rowSet']\n",
    "draftstats10 = draftcombinestats.DraftCombineStats(season_all_time = 2010).get_dict()['resultSets'][0]['rowSet']"
   ]
  },
  {
   "cell_type": "code",
   "execution_count": 5,
   "id": "1f0552d9",
   "metadata": {},
   "outputs": [],
   "source": [
    "draftstats11= draftcombinestats.DraftCombineStats(season_all_time = 2011).get_dict()['resultSets'][0]['rowSet']\n",
    "draftstats12= draftcombinestats.DraftCombineStats(season_all_time = 2012).get_dict()['resultSets'][0]['rowSet']\n",
    "draftstats13 = draftcombinestats.DraftCombineStats(season_all_time = 2013).get_dict()['resultSets'][0]['rowSet']\n",
    "draftstats14 = draftcombinestats.DraftCombineStats(season_all_time = 2014).get_dict()['resultSets'][0]['rowSet']"
   ]
  },
  {
   "cell_type": "code",
   "execution_count": 6,
   "id": "7cdd0293",
   "metadata": {},
   "outputs": [],
   "source": [
    "draftstats15 = draftcombinestats.DraftCombineStats(season_all_time = 2015).get_dict()['resultSets'][0]['rowSet']\n",
    "draftstats16 = draftcombinestats.DraftCombineStats(season_all_time = 2016).get_dict()['resultSets'][0]['rowSet']\n",
    "draftstats17 = draftcombinestats.DraftCombineStats(season_all_time = 2017).get_dict()['resultSets'][0]['rowSet']\n",
    "draftstats18 = draftcombinestats.DraftCombineStats(season_all_time = 2018).get_dict()['resultSets'][0]['rowSet']"
   ]
  },
  {
   "cell_type": "code",
   "execution_count": 7,
   "id": "c019fd33",
   "metadata": {},
   "outputs": [],
   "source": [
    "data_frames_list=[pd.DataFrame(draftstats00),\n",
    "                   pd.DataFrame(draftstats01),\n",
    "                   pd.DataFrame(draftstats02),\n",
    "                   pd.DataFrame(draftstats03),\n",
    "                   pd.DataFrame(draftstats04),\n",
    "                   pd.DataFrame(draftstats05),\n",
    "                   pd.DataFrame(draftstats06),\n",
    "                   pd.DataFrame(draftstats07),\n",
    "                   pd.DataFrame(draftstats08),\n",
    "                   pd.DataFrame(draftstats10),\n",
    "                   pd.DataFrame(draftstats11),\n",
    "                   pd.DataFrame(draftstats12),\n",
    "                   pd.DataFrame(draftstats13),\n",
    "                   pd.DataFrame(draftstats14),\n",
    "                   pd.DataFrame(draftstats15),\n",
    "                   pd.DataFrame(draftstats16),\n",
    "                   pd.DataFrame(draftstats17),\n",
    "                   pd.DataFrame(draftstats18)\n",
    "                  ]"
   ]
  },
  {
   "cell_type": "code",
   "execution_count": 8,
   "id": "22aac0b2",
   "metadata": {},
   "outputs": [],
   "source": [
    "headers = pd.DataFrame(draftcombinestats.DraftCombineStats(season_all_time=2009).get_dict()['resultSets'][0]['headers'])\n",
    "james_harden = pd.DataFrame(draftstats09[23])\n",
    "lebron = pd.DataFrame(draftstats03[37])\n",
    "kd = pd.DataFrame(draftstats07[16])\n",
    "rose = pd.DataFrame(draftstats08[65])\n",
    "curry = pd.DataFrame(draftstats09[12])\n",
    "westbrook = pd.DataFrame(draftstats08[74])"
   ]
  },
  {
   "cell_type": "code",
   "execution_count": 16,
   "id": "62d48164",
   "metadata": {},
   "outputs": [],
   "source": [
    "draft_data_frames1 = reduce(lambda  left,right: pd.merge(left,right,on=[0],\n",
    "                                            how='outer'),data_frames_list)"
   ]
  },
  {
   "cell_type": "code",
   "execution_count": null,
   "id": "401a796b",
   "metadata": {},
   "outputs": [],
   "source": []
  },
  {
   "cell_type": "code",
   "execution_count": 77,
   "id": "c3d59b29",
   "metadata": {},
   "outputs": [
    {
     "data": {
      "text/html": [
       "<div>\n",
       "<style scoped>\n",
       "    .dataframe tbody tr th:only-of-type {\n",
       "        vertical-align: middle;\n",
       "    }\n",
       "\n",
       "    .dataframe tbody tr th {\n",
       "        vertical-align: top;\n",
       "    }\n",
       "\n",
       "    .dataframe thead th {\n",
       "        text-align: right;\n",
       "    }\n",
       "</style>\n",
       "<table border=\"1\" class=\"dataframe\">\n",
       "  <thead>\n",
       "    <tr style=\"text-align: right;\">\n",
       "      <th></th>\n",
       "      <th>HEIGHT_WO_SHOES</th>\n",
       "      <th>WEIGHT</th>\n",
       "      <th>STANDING_REACH</th>\n",
       "      <th>BODY_FAT_PCT</th>\n",
       "      <th>MAX_VERTICAL_LEAP</th>\n",
       "    </tr>\n",
       "  </thead>\n",
       "  <tbody>\n",
       "    <tr>\n",
       "      <th>0</th>\n",
       "      <td>80.25</td>\n",
       "      <td>271</td>\n",
       "      <td>109.0</td>\n",
       "      <td>None</td>\n",
       "      <td>29.0</td>\n",
       "    </tr>\n",
       "    <tr>\n",
       "      <th>1</th>\n",
       "      <td>76.50</td>\n",
       "      <td>219</td>\n",
       "      <td>103.0</td>\n",
       "      <td>None</td>\n",
       "      <td>29.0</td>\n",
       "    </tr>\n",
       "    <tr>\n",
       "      <th>2</th>\n",
       "      <td>80.50</td>\n",
       "      <td>235.5</td>\n",
       "      <td>108.0</td>\n",
       "      <td>None</td>\n",
       "      <td>29.5</td>\n",
       "    </tr>\n",
       "    <tr>\n",
       "      <th>3</th>\n",
       "      <td>77.50</td>\n",
       "      <td>287</td>\n",
       "      <td>103.0</td>\n",
       "      <td>None</td>\n",
       "      <td>31.0</td>\n",
       "    </tr>\n",
       "    <tr>\n",
       "      <th>4</th>\n",
       "      <td>84.75</td>\n",
       "      <td>243</td>\n",
       "      <td>110.0</td>\n",
       "      <td>None</td>\n",
       "      <td>29.5</td>\n",
       "    </tr>\n",
       "    <tr>\n",
       "      <th>...</th>\n",
       "      <td>...</td>\n",
       "      <td>...</td>\n",
       "      <td>...</td>\n",
       "      <td>...</td>\n",
       "      <td>...</td>\n",
       "    </tr>\n",
       "    <tr>\n",
       "      <th>1222</th>\n",
       "      <td>NaN</td>\n",
       "      <td>NaN</td>\n",
       "      <td>NaN</td>\n",
       "      <td>NaN</td>\n",
       "      <td>NaN</td>\n",
       "    </tr>\n",
       "    <tr>\n",
       "      <th>1223</th>\n",
       "      <td>NaN</td>\n",
       "      <td>NaN</td>\n",
       "      <td>NaN</td>\n",
       "      <td>NaN</td>\n",
       "      <td>NaN</td>\n",
       "    </tr>\n",
       "    <tr>\n",
       "      <th>1224</th>\n",
       "      <td>NaN</td>\n",
       "      <td>NaN</td>\n",
       "      <td>NaN</td>\n",
       "      <td>NaN</td>\n",
       "      <td>NaN</td>\n",
       "    </tr>\n",
       "    <tr>\n",
       "      <th>1225</th>\n",
       "      <td>NaN</td>\n",
       "      <td>NaN</td>\n",
       "      <td>NaN</td>\n",
       "      <td>NaN</td>\n",
       "      <td>NaN</td>\n",
       "    </tr>\n",
       "    <tr>\n",
       "      <th>1226</th>\n",
       "      <td>NaN</td>\n",
       "      <td>NaN</td>\n",
       "      <td>NaN</td>\n",
       "      <td>NaN</td>\n",
       "      <td>NaN</td>\n",
       "    </tr>\n",
       "  </tbody>\n",
       "</table>\n",
       "<p>1227 rows × 5 columns</p>\n",
       "</div>"
      ],
      "text/plain": [
       "      HEIGHT_WO_SHOES WEIGHT  STANDING_REACH BODY_FAT_PCT  MAX_VERTICAL_LEAP\n",
       "0               80.25    271           109.0         None               29.0\n",
       "1               76.50    219           103.0         None               29.0\n",
       "2               80.50  235.5           108.0         None               29.5\n",
       "3               77.50    287           103.0         None               31.0\n",
       "4               84.75    243           110.0         None               29.5\n",
       "...               ...    ...             ...          ...                ...\n",
       "1222              NaN    NaN             NaN          NaN                NaN\n",
       "1223              NaN    NaN             NaN          NaN                NaN\n",
       "1224              NaN    NaN             NaN          NaN                NaN\n",
       "1225              NaN    NaN             NaN          NaN                NaN\n",
       "1226              NaN    NaN             NaN          NaN                NaN\n",
       "\n",
       "[1227 rows x 5 columns]"
      ]
     },
     "execution_count": 77,
     "metadata": {},
     "output_type": "execute_result"
    }
   ],
   "source": [
    "draft_data_frames1.iloc[:,[6,10,13,15,19]].rename(columns={\"6_x\":'HEIGHT_WO_SHOES', '10_x':'WEIGHT','13_x':'STANDING_REACH','15_x':'BODY_FAT_PCT','19_x':'MAX_VERTICAL_LEAP'})"
   ]
  },
  {
   "cell_type": "code",
   "execution_count": 22,
   "id": "9fb1042b",
   "metadata": {},
   "outputs": [
    {
     "data": {
      "text/html": [
       "<div>\n",
       "<style scoped>\n",
       "    .dataframe tbody tr th:only-of-type {\n",
       "        vertical-align: middle;\n",
       "    }\n",
       "\n",
       "    .dataframe tbody tr th {\n",
       "        vertical-align: top;\n",
       "    }\n",
       "\n",
       "    .dataframe thead th {\n",
       "        text-align: right;\n",
       "    }\n",
       "</style>\n",
       "<table border=\"1\" class=\"dataframe\">\n",
       "  <thead>\n",
       "    <tr style=\"text-align: right;\">\n",
       "      <th>Header</th>\n",
       "      <th>HEIGHT_WO_SHOES</th>\n",
       "      <th>WEIGHT</th>\n",
       "      <th>STANDING_REACH</th>\n",
       "      <th>BODY_FAT_PCT</th>\n",
       "      <th>MAX_VERTICAL_LEAP</th>\n",
       "    </tr>\n",
       "  </thead>\n",
       "  <tbody>\n",
       "    <tr>\n",
       "      <th>LeBron James</th>\n",
       "      <td>79.25</td>\n",
       "      <td>245</td>\n",
       "      <td>106.25</td>\n",
       "      <td>6.7</td>\n",
       "      <td>None</td>\n",
       "    </tr>\n",
       "    <tr>\n",
       "      <th>Derrick Rose</th>\n",
       "      <td>73.5</td>\n",
       "      <td>196</td>\n",
       "      <td>98.5</td>\n",
       "      <td>4.6</td>\n",
       "      <td>40.0</td>\n",
       "    </tr>\n",
       "    <tr>\n",
       "      <th>Kevin Durant</th>\n",
       "      <td>81.0</td>\n",
       "      <td>215</td>\n",
       "      <td>110.0</td>\n",
       "      <td>6.6</td>\n",
       "      <td>33.5</td>\n",
       "    </tr>\n",
       "    <tr>\n",
       "      <th>Steph Curry</th>\n",
       "      <td>74.0</td>\n",
       "      <td>181</td>\n",
       "      <td>97.0</td>\n",
       "      <td>5.7</td>\n",
       "      <td>35.5</td>\n",
       "    </tr>\n",
       "    <tr>\n",
       "      <th>Rrussell Westbrook</th>\n",
       "      <td>74.25</td>\n",
       "      <td>192</td>\n",
       "      <td>100.0</td>\n",
       "      <td>4.8</td>\n",
       "      <td>36.5</td>\n",
       "    </tr>\n",
       "  </tbody>\n",
       "</table>\n",
       "</div>"
      ],
      "text/plain": [
       "Header             HEIGHT_WO_SHOES WEIGHT STANDING_REACH BODY_FAT_PCT  \\\n",
       "LeBron James                 79.25    245         106.25          6.7   \n",
       "Derrick Rose                  73.5    196           98.5          4.6   \n",
       "Kevin Durant                  81.0    215          110.0          6.6   \n",
       "Steph Curry                   74.0    181           97.0          5.7   \n",
       "Rrussell Westbrook           74.25    192          100.0          4.8   \n",
       "\n",
       "Header             MAX_VERTICAL_LEAP  \n",
       "LeBron James                    None  \n",
       "Derrick Rose                    40.0  \n",
       "Kevin Durant                    33.5  \n",
       "Steph Curry                     35.5  \n",
       "Rrussell Westbrook              36.5  "
      ]
     },
     "execution_count": 22,
     "metadata": {},
     "output_type": "execute_result"
    }
   ],
   "source": [
    "draft_stats = pd.DataFrame(headers).rename(columns={0:'Header'})\n",
    "draft_stats['LeBron James'] = lebron\n",
    "draft_stats['Derrick Rose'] = rose\n",
    "draft_stats['Kevin Durant'] = kd\n",
    "draft_stats['Steph Curry'] = curry\n",
    "draft_stats['Rrussell Westbrook']=westbrook\n",
    "draft_stats = draft_stats.iloc[[6,10,13,15,19],:].set_index('Header').T\n",
    "draft_stats"
   ]
  },
  {
   "cell_type": "code",
   "execution_count": 51,
   "id": "e87cf0d4",
   "metadata": {},
   "outputs": [],
   "source": [
    "players = ['Bob Pettit','Bob Cousy','Bill Russell','Wilt Chamberlain','Oscar Robertson','Wes Unseld','Willis Reed','Kareem Abdul-Jabbar','Dave Cowens','Bob McAdoo','Bill Walton','Moses Malone','Julius Erving','Larry Bird','Magic Johnson','Michael Jordan','Charles Barkley','Hakeem Olajuwon','David Robinson','Karl Malone',\"Shaquille O'Neal\",'Allen Iverson','Tim Duncan','Kevin Garnett','Steve Nash','Dirk Nowitzki','Kobe Bryant','LeBron James','Derrick Rose','Kevin Durant','Stephen Curry','Russell Westbrook','James Harden']\n",
    "players = pd.DataFrame(players) \n",
    "players = players.rename(columns={ 0 : 'Player'})\n",
    "draft_history = drafthistory.DraftHistory().get_dict()\n",
    "all_drafts_headers = pd.DataFrame(draft_history['resultSets'][0]['headers'])\n",
    "draft_history = pd.DataFrame(draft_history['resultSets'][0]['rowSet']).iloc[:,[1,2,3,4,11]].rename(columns={ 1 : 'Player', 2:'Year',3:'Round',4:'Pick',11:\"College\"})"
   ]
  },
  {
   "cell_type": "code",
   "execution_count": 52,
   "id": "dca9a4d8",
   "metadata": {},
   "outputs": [],
   "source": [
    "mvp_draft=pd.merge(players, draft_history, on=\"Player\", how=\"left\")"
   ]
  },
  {
   "cell_type": "code",
   "execution_count": 53,
   "id": "65ed8261",
   "metadata": {},
   "outputs": [
    {
     "data": {
      "image/png": "[encoded data removed]",
      "text/plain": [
       "<Figure size 432x288 with 1 Axes>"
      ]
     },
     "metadata": {
      "needs_background": "light"
     },
     "output_type": "display_data"
    }
   ],
   "source": [
    "mvp_draft=mvp_draft.iloc[:,0:6]\n",
    "mvp_draft_pick_chart=mvp_draft.groupby('Pick').count()['Player'].plot(kind='bar', ylabel= 'number of picks')"
   ]
  },
  {
   "cell_type": "code",
   "execution_count": 54,
   "id": "fd294b6e",
   "metadata": {},
   "outputs": [
    {
     "data": {
      "text/plain": [
       "<matplotlib.axes._subplots.AxesSubplot at 0x7fecb182e2d0>"
      ]
     },
     "execution_count": 54,
     "metadata": {},
     "output_type": "execute_result"
    },
    {
     "data": {
      "image/png": "[encoded data removed]",
      "text/plain": [
       "<Figure size 432x288 with 1 Axes>"
      ]
     },
     "metadata": {
      "needs_background": "light"
     },
     "output_type": "display_data"
    }
   ],
   "source": [
    "mvp_draft.groupby('College').count()['Player'].plot(kind='bar',ylabel= \"number of mvps\")"
   ]
  },
  {
   "cell_type": "code",
   "execution_count": 55,
   "id": "6a08943d",
   "metadata": {},
   "outputs": [
    {
     "data": {
      "image/png": "[encoded data removed]",
      "text/plain": [
       "<Figure size 432x288 with 1 Axes>"
      ]
     },
     "metadata": {},
     "output_type": "display_data"
    }
   ],
   "source": [
    "total_drafted = len(draft_history)\n",
    "total_mvps = len(players)\n",
    "non_mvps= total_drafted - total_mvps\n",
    "labels = ['mvps','non_mvps']\n",
    "explode = (0.8, 0.0,)\n",
    "y = np.array([total_mvps,non_mvps])\n",
    "plt.pie(y,labels = labels,autopct=\"%1.2f%%\",pctdistance=1.2,labeldistance=1.45,explode = explode) \n",
    "plt.show()"
   ]
  },
  {
   "cell_type": "code",
   "execution_count": 71,
   "id": "daa57664",
   "metadata": {},
   "outputs": [
    {
     "data": {
      "text/plain": [
       "8201"
      ]
     },
     "execution_count": 71,
     "metadata": {},
     "output_type": "execute_result"
    }
   ],
   "source": [
    "total_drafted"
   ]
  },
  {
   "cell_type": "code",
   "execution_count": 56,
   "id": "6c7683da",
   "metadata": {},
   "outputs": [
    {
     "data": {
      "text/plain": [
       "<matplotlib.axes._subplots.AxesSubplot at 0x7fecb1b79350>"
      ]
     },
     "execution_count": 56,
     "metadata": {},
     "output_type": "execute_result"
    },
    {
     "data": {
      "image/png": "[encoded data removed]",
      "text/plain": [
       "<Figure size 432x288 with 1 Axes>"
      ]
     },
     "metadata": {
      "needs_background": "light"
     },
     "output_type": "display_data"
    }
   ],
   "source": [
    "draft_df['College'].value_counts().head(10).plot(kind='bar',ylabel='Total Players Drafted')"
   ]
  },
  {
   "cell_type": "code",
   "execution_count": 57,
   "id": "aeb40fcc",
   "metadata": {
    "scrolled": true
   },
   "outputs": [],
   "source": [
    "mvp_postions = mvp['MVP Position']"
   ]
  },
  {
   "cell_type": "code",
   "execution_count": 58,
   "id": "c39dfff8",
   "metadata": {
    "scrolled": true
   },
   "outputs": [],
   "source": [
    "mvp_postions = pd.DataFrame(mvp_postions)"
   ]
  },
  {
   "cell_type": "code",
   "execution_count": 59,
   "id": "46a47cb8",
   "metadata": {},
   "outputs": [],
   "source": [
    "mvp_postions_percentage = mvp_postions.value_counts()"
   ]
  },
  {
   "cell_type": "code",
   "execution_count": 60,
   "id": "354dde70",
   "metadata": {},
   "outputs": [
    {
     "data": {
      "text/plain": [
       "<matplotlib.axes._subplots.AxesSubplot at 0x7fecb1ba5050>"
      ]
     },
     "execution_count": 60,
     "metadata": {},
     "output_type": "execute_result"
    },
    {
     "data": {
      "image/png": "[encoded data removed]",
      "text/plain": [
       "<Figure size 432x288 with 1 Axes>"
      ]
     },
     "metadata": {},
     "output_type": "display_data"
    }
   ],
   "source": [
    "mvp_postions_percentage.plot(kind = \"pie\", autopct=\"%1.1f%%\")"
   ]
  },
  {
   "cell_type": "code",
   "execution_count": 61,
   "id": "ec7e3f0b",
   "metadata": {},
   "outputs": [],
   "source": [
    "sixties = mvp.iloc[10:19]['MVP Position']\n",
    "seventies = mvp.iloc[20:29]['MVP Position']\n",
    "eighties = mvp.iloc[30:39]['MVP Position']\n",
    "nineties = mvp.iloc[40:49]['MVP Position']\n",
    "twok = mvp.iloc[50:59]['MVP Position']\n",
    "tens = mvp.iloc[60:69]['MVP Position']"
   ]
  },
  {
   "cell_type": "code",
   "execution_count": 62,
   "id": "d11d922f",
   "metadata": {},
   "outputs": [],
   "source": [
    "sixties = sixties.value_counts()\n",
    "seventies = seventies.value_counts()\n",
    "eighties = eighties.value_counts()\n",
    "nineties = nineties.value_counts()\n",
    "twok = twok.value_counts()\n",
    "tens = tens.value_counts()"
   ]
  },
  {
   "cell_type": "code",
   "execution_count": 63,
   "id": "f5e32785",
   "metadata": {},
   "outputs": [],
   "source": [
    "index = ['60s','70s','80s', '90s']\n",
    "df = pd.DataFrame({'60': sixties,\n",
    "                   '70s': seventies,\n",
    "                   '80s': eighties,\n",
    "                   '90s':nineties,\n",
    "                   '00s':twok,\n",
    "                   '10s':tens\n",
    "                  })"
   ]
  },
  {
   "cell_type": "code",
   "execution_count": 64,
   "id": "c293bbca",
   "metadata": {
    "scrolled": false
   },
   "outputs": [
    {
     "data": {
      "text/plain": [
       "<matplotlib.axes._subplots.AxesSubplot at 0x7fecb1bc4c10>"
      ]
     },
     "execution_count": 64,
     "metadata": {},
     "output_type": "execute_result"
    },
    {
     "data": {
      "image/png": "[encoded data removed]",
      "text/plain": [
       "<Figure size 432x288 with 1 Axes>"
      ]
     },
     "metadata": {
      "needs_background": "light"
     },
     "output_type": "display_data"
    }
   ],
   "source": [
    "df = df.T\n",
    "df.plot.bar(rot=0)"
   ]
  },
  {
   "cell_type": "code",
   "execution_count": 65,
   "id": "6b1ff8a9",
   "metadata": {
    "scrolled": true
   },
   "outputs": [
    {
     "data": {
      "text/plain": [
       "<matplotlib.axes._subplots.AxesSubplot at 0x7fecb1bf47d0>"
      ]
     },
     "execution_count": 65,
     "metadata": {},
     "output_type": "execute_result"
    },
    {
     "data": {
      "image/png": "[encoded data removed]",
      "text/plain": [
       "<Figure size 432x288 with 1 Axes>"
      ]
     },
     "metadata": {
      "needs_background": "light"
     },
     "output_type": "display_data"
    }
   ],
   "source": [
    "heightdf = pd.DataFrame(mvp['MVP Height (ft)'])\n",
    "heightdf.plot.box(xlabel = \" \", ylabel = \"Feet\")"
   ]
  },
  {
   "cell_type": "code",
   "execution_count": 66,
   "id": "5204b148",
   "metadata": {},
   "outputs": [
    {
     "data": {
      "text/plain": [
       "0.25    6.498032\n",
       "0.50    6.758530\n",
       "0.75    6.922572\n",
       "Name: MVP Height (ft), dtype: float64"
      ]
     },
     "execution_count": 66,
     "metadata": {},
     "output_type": "execute_result"
    }
   ],
   "source": [
    "quartiles = mvp['MVP Height (ft)'].quantile([.25,.5,.75])\n",
    "lowerq = quartiles[0.25]\n",
    "midq = quartiles[0.5]\n",
    "upperq = quartiles[0.75]\n",
    "iqr = upperq-lowerq\n",
    "quartiles"
   ]
  },
  {
   "cell_type": "code",
   "execution_count": null,
   "id": "93978e84",
   "metadata": {},
   "outputs": [],
   "source": [
    "# corr = pd.DataFrame(capo_weight_df.corr())\n",
    "# corr = corr.loc['Tumor Volume (mm3)','Weight (g)']"
   ]
  },
  {
   "cell_type": "code",
   "execution_count": null,
   "id": "d6795e38",
   "metadata": {},
   "outputs": [],
   "source": []
  },
  {
   "cell_type": "code",
   "execution_count": null,
   "id": "a7d50554",
   "metadata": {},
   "outputs": [],
   "source": []
  }
 ],
 "metadata": {
  "kernelspec": {
   "display_name": "PythonData",
   "language": "python",
   "name": "pythondata"
  },
  "language_info": {
   "codemirror_mode": {
    "name": "ipython",
    "version": 3
   },
   "file_extension": ".py",
   "mimetype": "text/x-python",
   "name": "python",
   "nbconvert_exporter": "python",
   "pygments_lexer": "ipython3",
   "version": "3.7.7"
  }
 },
 "nbformat": 4,
 "nbformat_minor": 5
}
